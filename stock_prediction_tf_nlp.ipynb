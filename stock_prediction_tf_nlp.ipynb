{
  "nbformat": 4,
  "nbformat_minor": 0,
  "metadata": {
    "colab": {
      "provenance": []
    },
    "kernelspec": {
      "name": "python3",
      "display_name": "Python 3"
    },
    "language_info": {
      "name": "python"
    }
  },
  "cells": [
    {
      "cell_type": "code",
      "execution_count": null,
      "metadata": {
        "colab": {
          "base_uri": "https://localhost:8080/"
        },
        "id": "6Yu9cd9ZAY2-",
        "outputId": "ae41dd73-4dc2-4af9-982b-549afae29b1d"
      },
      "outputs": [
        {
          "output_type": "stream",
          "name": "stdout",
          "text": [
            "Version:  2.12.0\n",
            "Eager mode:  True\n",
            "Hub version:  0.14.0\n",
            "GPU is NOT AVAILABLE\n"
          ]
        }
      ],
      "source": [
        "import numpy as np\n",
        "\n",
        "import tensorflow as tf\n",
        "import tensorflow_hub as hub\n",
        "import tensorflow_datasets as tfds\n",
        "\n",
        "import matplotlib.pyplot as plt\n",
        "\n",
        "print(\"Version: \", tf.__version__)\n",
        "print(\"Eager mode: \", tf.executing_eagerly())\n",
        "print(\"Hub version: \", hub.__version__)\n",
        "print(\"GPU is\", \"available\" if tf.config.list_physical_devices('GPU') else \"NOT AVAILABLE\")"
      ]
    },
    {
      "cell_type": "markdown",
      "source": [
        "Upload the all-data.csv file here for the stock data"
      ],
      "metadata": {
        "id": "eWCF79medYhs"
      }
    },
    {
      "cell_type": "code",
      "source": [
        "uploaded = files.upload()"
      ],
      "metadata": {
        "colab": {
          "base_uri": "https://localhost:8080/",
          "height": 73
        },
        "id": "_w0LwJnDWymC",
        "outputId": "67b2a09a-f80e-4a73-ddc0-e9239bafc579"
      },
      "execution_count": null,
      "outputs": [
        {
          "output_type": "display_data",
          "data": {
            "text/plain": [
              "<IPython.core.display.HTML object>"
            ],
            "text/html": [
              "\n",
              "     <input type=\"file\" id=\"files-a0f5cc71-8e78-4dae-b237-02670f2ab46e\" name=\"files[]\" multiple disabled\n",
              "        style=\"border:none\" />\n",
              "     <output id=\"result-a0f5cc71-8e78-4dae-b237-02670f2ab46e\">\n",
              "      Upload widget is only available when the cell has been executed in the\n",
              "      current browser session. Please rerun this cell to enable.\n",
              "      </output>\n",
              "      <script>// Copyright 2017 Google LLC\n",
              "//\n",
              "// Licensed under the Apache License, Version 2.0 (the \"License\");\n",
              "// you may not use this file except in compliance with the License.\n",
              "// You may obtain a copy of the License at\n",
              "//\n",
              "//      http://www.apache.org/licenses/LICENSE-2.0\n",
              "//\n",
              "// Unless required by applicable law or agreed to in writing, software\n",
              "// distributed under the License is distributed on an \"AS IS\" BASIS,\n",
              "// WITHOUT WARRANTIES OR CONDITIONS OF ANY KIND, either express or implied.\n",
              "// See the License for the specific language governing permissions and\n",
              "// limitations under the License.\n",
              "\n",
              "/**\n",
              " * @fileoverview Helpers for google.colab Python module.\n",
              " */\n",
              "(function(scope) {\n",
              "function span(text, styleAttributes = {}) {\n",
              "  const element = document.createElement('span');\n",
              "  element.textContent = text;\n",
              "  for (const key of Object.keys(styleAttributes)) {\n",
              "    element.style[key] = styleAttributes[key];\n",
              "  }\n",
              "  return element;\n",
              "}\n",
              "\n",
              "// Max number of bytes which will be uploaded at a time.\n",
              "const MAX_PAYLOAD_SIZE = 100 * 1024;\n",
              "\n",
              "function _uploadFiles(inputId, outputId) {\n",
              "  const steps = uploadFilesStep(inputId, outputId);\n",
              "  const outputElement = document.getElementById(outputId);\n",
              "  // Cache steps on the outputElement to make it available for the next call\n",
              "  // to uploadFilesContinue from Python.\n",
              "  outputElement.steps = steps;\n",
              "\n",
              "  return _uploadFilesContinue(outputId);\n",
              "}\n",
              "\n",
              "// This is roughly an async generator (not supported in the browser yet),\n",
              "// where there are multiple asynchronous steps and the Python side is going\n",
              "// to poll for completion of each step.\n",
              "// This uses a Promise to block the python side on completion of each step,\n",
              "// then passes the result of the previous step as the input to the next step.\n",
              "function _uploadFilesContinue(outputId) {\n",
              "  const outputElement = document.getElementById(outputId);\n",
              "  const steps = outputElement.steps;\n",
              "\n",
              "  const next = steps.next(outputElement.lastPromiseValue);\n",
              "  return Promise.resolve(next.value.promise).then((value) => {\n",
              "    // Cache the last promise value to make it available to the next\n",
              "    // step of the generator.\n",
              "    outputElement.lastPromiseValue = value;\n",
              "    return next.value.response;\n",
              "  });\n",
              "}\n",
              "\n",
              "/**\n",
              " * Generator function which is called between each async step of the upload\n",
              " * process.\n",
              " * @param {string} inputId Element ID of the input file picker element.\n",
              " * @param {string} outputId Element ID of the output display.\n",
              " * @return {!Iterable<!Object>} Iterable of next steps.\n",
              " */\n",
              "function* uploadFilesStep(inputId, outputId) {\n",
              "  const inputElement = document.getElementById(inputId);\n",
              "  inputElement.disabled = false;\n",
              "\n",
              "  const outputElement = document.getElementById(outputId);\n",
              "  outputElement.innerHTML = '';\n",
              "\n",
              "  const pickedPromise = new Promise((resolve) => {\n",
              "    inputElement.addEventListener('change', (e) => {\n",
              "      resolve(e.target.files);\n",
              "    });\n",
              "  });\n",
              "\n",
              "  const cancel = document.createElement('button');\n",
              "  inputElement.parentElement.appendChild(cancel);\n",
              "  cancel.textContent = 'Cancel upload';\n",
              "  const cancelPromise = new Promise((resolve) => {\n",
              "    cancel.onclick = () => {\n",
              "      resolve(null);\n",
              "    };\n",
              "  });\n",
              "\n",
              "  // Wait for the user to pick the files.\n",
              "  const files = yield {\n",
              "    promise: Promise.race([pickedPromise, cancelPromise]),\n",
              "    response: {\n",
              "      action: 'starting',\n",
              "    }\n",
              "  };\n",
              "\n",
              "  cancel.remove();\n",
              "\n",
              "  // Disable the input element since further picks are not allowed.\n",
              "  inputElement.disabled = true;\n",
              "\n",
              "  if (!files) {\n",
              "    return {\n",
              "      response: {\n",
              "        action: 'complete',\n",
              "      }\n",
              "    };\n",
              "  }\n",
              "\n",
              "  for (const file of files) {\n",
              "    const li = document.createElement('li');\n",
              "    li.append(span(file.name, {fontWeight: 'bold'}));\n",
              "    li.append(span(\n",
              "        `(${file.type || 'n/a'}) - ${file.size} bytes, ` +\n",
              "        `last modified: ${\n",
              "            file.lastModifiedDate ? file.lastModifiedDate.toLocaleDateString() :\n",
              "                                    'n/a'} - `));\n",
              "    const percent = span('0% done');\n",
              "    li.appendChild(percent);\n",
              "\n",
              "    outputElement.appendChild(li);\n",
              "\n",
              "    const fileDataPromise = new Promise((resolve) => {\n",
              "      const reader = new FileReader();\n",
              "      reader.onload = (e) => {\n",
              "        resolve(e.target.result);\n",
              "      };\n",
              "      reader.readAsArrayBuffer(file);\n",
              "    });\n",
              "    // Wait for the data to be ready.\n",
              "    let fileData = yield {\n",
              "      promise: fileDataPromise,\n",
              "      response: {\n",
              "        action: 'continue',\n",
              "      }\n",
              "    };\n",
              "\n",
              "    // Use a chunked sending to avoid message size limits. See b/62115660.\n",
              "    let position = 0;\n",
              "    do {\n",
              "      const length = Math.min(fileData.byteLength - position, MAX_PAYLOAD_SIZE);\n",
              "      const chunk = new Uint8Array(fileData, position, length);\n",
              "      position += length;\n",
              "\n",
              "      const base64 = btoa(String.fromCharCode.apply(null, chunk));\n",
              "      yield {\n",
              "        response: {\n",
              "          action: 'append',\n",
              "          file: file.name,\n",
              "          data: base64,\n",
              "        },\n",
              "      };\n",
              "\n",
              "      let percentDone = fileData.byteLength === 0 ?\n",
              "          100 :\n",
              "          Math.round((position / fileData.byteLength) * 100);\n",
              "      percent.textContent = `${percentDone}% done`;\n",
              "\n",
              "    } while (position < fileData.byteLength);\n",
              "  }\n",
              "\n",
              "  // All done.\n",
              "  yield {\n",
              "    response: {\n",
              "      action: 'complete',\n",
              "    }\n",
              "  };\n",
              "}\n",
              "\n",
              "scope.google = scope.google || {};\n",
              "scope.google.colab = scope.google.colab || {};\n",
              "scope.google.colab._files = {\n",
              "  _uploadFiles,\n",
              "  _uploadFilesContinue,\n",
              "};\n",
              "})(self);\n",
              "</script> "
            ]
          },
          "metadata": {}
        },
        {
          "output_type": "stream",
          "name": "stdout",
          "text": [
            "Saving all-data.csv to all-data (1).csv\n"
          ]
        }
      ]
    },
    {
      "cell_type": "markdown",
      "source": [
        "Depending on the dataset, run different cells. One cell is for training on imdb movie reviews, other is for training on kaggle stock headline data."
      ],
      "metadata": {
        "id": "TsaJ8ij_zU4l"
      }
    },
    {
      "cell_type": "code",
      "source": [
        "# Specify dataset by running certain blocks and changing vars here\n",
        "\n",
        "dataType = 'headlines'\n",
        "split = 1000\n",
        "\n",
        "if dataType == 'headlines':\n",
        "\n",
        "  import pandas as pd\n",
        "  from google.colab import files\n",
        "  import io\n",
        "\n",
        "  all_data = uploaded['all-data (1).csv']\n",
        "  all_data = b'sentiment,headline\\r' + all_data\n",
        "\n",
        "  df = pd.read_csv(io.StringIO(all_data.decode('ISO-8859-1')))\n",
        "\n",
        "  replacements = {'positive': 1, 'neutral': 0.5, 'negative': 0}\n",
        "\n",
        "  df['sentiment'] = df['sentiment'].replace(replacements)\n",
        "  df.describe()\n",
        "  df.head(5)\n",
        "\n",
        "  train_data = df.head(2000)\n",
        "  test_data = df.head(-2000)\n",
        "\n",
        "  train_examples = train_data['headline']\n",
        "  train_labels = train_data['sentiment']\n",
        "  test_examples = train_data['headline']\n",
        "  test_labels = train_data['sentiment']\n",
        "else:\n",
        "\n",
        "  split = 10000\n",
        "  train_data, test_data = tfds.load(name=\"imdb_reviews\", split=[\"train\", \"test\"],\n",
        "                                  batch_size=-1, as_supervised=True)\n",
        "\n",
        "  train_examples, train_labels = tfds.as_numpy(train_data)\n",
        "  test_examples, test_labels = tfds.as_numpy(test_data)"
      ],
      "metadata": {
        "id": "ducz_9uAVdkH"
      },
      "execution_count": null,
      "outputs": []
    },
    {
      "cell_type": "code",
      "source": [
        "model = \"https://tfhub.dev/google/nnlm-en-dim50/2\"\n",
        "hub_layer = hub.KerasLayer(model, input_shape=[], dtype=tf.string, trainable=True)\n",
        "hub_layer(train_examples[:3])"
      ],
      "metadata": {
        "colab": {
          "base_uri": "https://localhost:8080/"
        },
        "id": "jvYWGvnPFEhj",
        "outputId": "d0e654b1-b9aa-4ce2-f955-5f76af9e2e13"
      },
      "execution_count": null,
      "outputs": [
        {
          "output_type": "execute_result",
          "data": {
            "text/plain": [
              "<tf.Tensor: shape=(3, 50), dtype=float32, numpy=\n",
              "array([[ 1.57878883e-02,  4.98380885e-02,  2.40863606e-01,\n",
              "         1.87875345e-01, -3.39158103e-02,  7.67395720e-02,\n",
              "         1.81269839e-01,  2.77704865e-01, -2.42365032e-01,\n",
              "         3.05864774e-02, -2.43232727e-01,  1.32182494e-01,\n",
              "        -7.32430592e-02, -1.00961305e-01,  1.73457235e-01,\n",
              "        -2.27750972e-01, -8.20414796e-02,  9.01060849e-02,\n",
              "         1.87368229e-01, -4.32811752e-02,  5.76531403e-02,\n",
              "        -3.97308134e-02,  2.06172943e-01, -1.47577614e-01,\n",
              "        -3.43066037e-01,  3.00952107e-01, -1.98043063e-01,\n",
              "        -1.72513187e-01, -3.14834192e-02, -1.44412473e-01,\n",
              "        -5.08709475e-02,  4.44432124e-02,  2.47089058e-01,\n",
              "        -1.61841244e-01, -2.36676067e-01,  1.78138092e-01,\n",
              "        -1.10819958e-01, -3.44441772e-01,  4.43259403e-02,\n",
              "        -9.44948196e-02, -4.03841108e-01, -8.07946995e-02,\n",
              "        -1.83016852e-01,  3.14553738e-01,  2.08202007e-04,\n",
              "        -2.89767921e-01, -1.58644561e-02, -1.23980902e-01,\n",
              "        -1.08745858e-01,  1.25720412e-01],\n",
              "       [ 1.66567460e-01,  6.06612340e-02,  3.16063941e-01,\n",
              "         1.63544044e-01, -2.69654065e-01,  2.29550034e-01,\n",
              "         2.96042413e-01,  9.59303528e-02, -8.78835991e-02,\n",
              "         2.48057544e-02, -6.45070910e-01,  2.63199657e-01,\n",
              "        -4.44536880e-02, -2.84143716e-01,  2.96347171e-01,\n",
              "        -2.60324359e-01,  1.33478224e-01, -1.72141626e-01,\n",
              "        -1.97301339e-02,  3.35000940e-02,  9.06193927e-02,\n",
              "         4.28703241e-02,  4.28962290e-01,  4.18900438e-02,\n",
              "        -1.33442981e-02,  1.31795302e-01, -4.78730090e-02,\n",
              "         1.52862951e-01, -1.29851639e-01, -8.34028795e-02,\n",
              "        -5.81416395e-03, -2.25783661e-02,  2.80430689e-02,\n",
              "        -1.49332464e-01, -1.19200207e-01, -7.08864555e-02,\n",
              "        -2.05554098e-01, -6.02221042e-02,  6.74476251e-02,\n",
              "         4.05292064e-02, -3.22453320e-01,  1.10762514e-01,\n",
              "        -1.52171180e-01,  3.35195959e-01,  1.86577290e-01,\n",
              "        -2.00804323e-01,  3.39164957e-02, -1.12487841e-02,\n",
              "         4.23246548e-02,  4.23695534e-01],\n",
              "       [ 2.48583317e-01, -2.20993534e-01,  1.62452877e-01,\n",
              "         1.14944279e-02,  4.73745465e-02, -1.80504844e-01,\n",
              "         1.84038147e-01,  2.32419714e-01,  3.76010060e-01,\n",
              "        -1.53413922e-01, -4.05394644e-01,  4.08895403e-01,\n",
              "        -4.15592873e-03, -1.79210782e-01,  1.48269445e-01,\n",
              "        -1.08930372e-01, -2.75545955e-01, -9.64884683e-02,\n",
              "        -2.35847887e-02,  3.97561938e-01, -2.76773870e-01,\n",
              "        -1.39090315e-01, -9.44662690e-02, -2.25702465e-01,\n",
              "         1.01059206e-01,  1.26059502e-01, -4.23463024e-02,\n",
              "        -7.54529014e-02, -4.40361112e-01, -1.36073560e-01,\n",
              "         6.95678890e-02,  3.84087674e-02, -3.50143351e-02,\n",
              "        -1.18952475e-01, -2.86953241e-01,  7.77883008e-02,\n",
              "        -8.56258646e-02,  5.33269681e-02, -7.15247467e-02,\n",
              "         1.42001495e-01, -3.39034885e-01, -2.64704913e-01,\n",
              "        -1.12192594e-01,  3.53680134e-01,  1.20539390e-01,\n",
              "        -4.30655599e-01, -5.12017421e-02,  1.29538521e-01,\n",
              "         9.70075727e-02,  6.74980655e-02]], dtype=float32)>"
            ]
          },
          "metadata": {},
          "execution_count": 111
        }
      ]
    },
    {
      "cell_type": "code",
      "source": [
        "model = tf.keras.Sequential()\n",
        "model.add(hub_layer)\n",
        "model.add(tf.keras.layers.Dense(16, activation='relu'))\n",
        "model.add(tf.keras.layers.Dense(1))\n",
        "\n",
        "model.summary()\n",
        "\n",
        "model.compile(optimizer='adam',\n",
        "              loss=tf.losses.BinaryCrossentropy(from_logits=True),\n",
        "              metrics=[tf.metrics.BinaryAccuracy(threshold=0.0, name='accuracy')])"
      ],
      "metadata": {
        "colab": {
          "base_uri": "https://localhost:8080/"
        },
        "id": "ckCKUqqDFGQb",
        "outputId": "89a14251-9fa0-4966-834a-36e44ea2c013"
      },
      "execution_count": null,
      "outputs": [
        {
          "output_type": "stream",
          "name": "stdout",
          "text": [
            "Model: \"sequential_3\"\n",
            "_________________________________________________________________\n",
            " Layer (type)                Output Shape              Param #   \n",
            "=================================================================\n",
            " keras_layer_3 (KerasLayer)  (None, 50)                48190600  \n",
            "                                                                 \n",
            " dense_6 (Dense)             (None, 16)                816       \n",
            "                                                                 \n",
            " dense_7 (Dense)             (None, 1)                 17        \n",
            "                                                                 \n",
            "=================================================================\n",
            "Total params: 48,191,433\n",
            "Trainable params: 48,191,433\n",
            "Non-trainable params: 0\n",
            "_________________________________________________________________\n"
          ]
        }
      ]
    },
    {
      "cell_type": "code",
      "execution_count": null,
      "metadata": {
        "id": "-NpcXY9--llS"
      },
      "outputs": [],
      "source": [
        "x_val = train_examples[:split]\n",
        "partial_x_train = train_examples[split:]\n",
        "\n",
        "y_val = train_labels[:split]\n",
        "partial_y_train = train_labels[split:]"
      ]
    },
    {
      "cell_type": "code",
      "execution_count": null,
      "metadata": {
        "id": "tXSGrjWZ-llW",
        "colab": {
          "base_uri": "https://localhost:8080/"
        },
        "outputId": "6bff2cbf-d5c7-4908-c505-3c10613d5db5"
      },
      "outputs": [
        {
          "output_type": "stream",
          "name": "stdout",
          "text": [
            "2/2 [==============================] - 4s 2s/step - loss: 0.6730 - accuracy: 0.2440 - val_loss: 0.5730 - val_accuracy: 0.7770\n"
          ]
        }
      ],
      "source": [
        "history = model.fit(partial_x_train,\n",
        "                    partial_y_train,\n",
        "                    epochs=1,\n",
        "                    batch_size=512,\n",
        "                    validation_data=(x_val, y_val),\n",
        "                    verbose=1)"
      ]
    },
    {
      "cell_type": "code",
      "source": [
        "type(model)"
      ],
      "metadata": {
        "colab": {
          "base_uri": "https://localhost:8080/"
        },
        "id": "XsLsKBiXUKsD",
        "outputId": "ee32c477-0899-461c-b50c-9fdd2f6bc037"
      },
      "execution_count": null,
      "outputs": [
        {
          "output_type": "execute_result",
          "data": {
            "text/plain": [
              "keras.engine.sequential.Sequential"
            ]
          },
          "metadata": {},
          "execution_count": 117
        }
      ]
    },
    {
      "cell_type": "markdown",
      "source": [
        "Now that model trained, lets grab headlines related to stock ticker."
      ],
      "metadata": {
        "id": "sfls1GcYLcQI"
      }
    },
    {
      "cell_type": "code",
      "source": [
        "import requests\n",
        "import bs4"
      ],
      "metadata": {
        "id": "xNTAXXJtLbOh"
      },
      "execution_count": null,
      "outputs": []
    },
    {
      "cell_type": "code",
      "source": [
        "text= \"AAPL\"\n",
        "url = 'https://news.google.com/search?q=' + text + '&hl=en-CA&gl=CA&ceid=CA:en'\n",
        "\n",
        "# Fetch the URL data using requests.get(url),\n",
        "# store it in a variable, request_result.\n",
        "request_result=requests.get( url )\n",
        "\n",
        "# Creating soup from the fetched request\n",
        "soup = bs4.BeautifulSoup(request_result.text,\n",
        "                         \"html.parser\")\n",
        "\n",
        "heading_object=soup.find_all( 'h3' )\n",
        "\n",
        "npHeadlines = []\n",
        "\n",
        "# Iterate through the object\n",
        "# and print it as a string.\n",
        "for info in heading_object:\n",
        "    # print(info.getText())\n",
        "    # print(\"------\")\n",
        "    npHeadlines.append(info.getText())\n",
        "\n",
        "npHeadlines = np.array(npHeadlines)\n",
        "npHeadlines = npHeadlines[:3]"
      ],
      "metadata": {
        "id": "hypsWThOLqOF"
      },
      "execution_count": null,
      "outputs": []
    },
    {
      "cell_type": "markdown",
      "source": [
        "Now that all headlines for specified company are obtained, lets run the model on this data to perform sentiment analysis."
      ],
      "metadata": {
        "id": "7sUojFcPRq-_"
      }
    },
    {
      "cell_type": "code",
      "source": [
        "preds = model.predict(npHeadlines)"
      ],
      "metadata": {
        "colab": {
          "base_uri": "https://localhost:8080/"
        },
        "id": "MxRryZOlesrp",
        "outputId": "bd188f24-2bb5-40ea-de17-9a24b7d95917"
      },
      "execution_count": null,
      "outputs": [
        {
          "output_type": "stream",
          "name": "stdout",
          "text": [
            "1/1 [==============================] - 0s 221ms/step\n"
          ]
        }
      ]
    },
    {
      "cell_type": "code",
      "source": [
        "print(preds)\n",
        "print(npHeadlines)"
      ],
      "metadata": {
        "colab": {
          "base_uri": "https://localhost:8080/"
        },
        "id": "JnBMnzQUhRIO",
        "outputId": "9d713ddf-2763-472d-c0f6-eba8cd2060c8"
      },
      "execution_count": null,
      "outputs": [
        {
          "output_type": "stream",
          "name": "stdout",
          "text": [
            "[[0.29072705]\n",
            " [0.44235942]\n",
            " [0.5773897 ]]\n",
            "['Apple (NASDAQ:AAPL) Slips After Settlement News - TipRanks.com'\n",
            " 'Leaked Info About Apple iPhone Hints At Surprising Changes - Apple (NASDAQ:AAPL)'\n",
            " '5 Signs a Market Bounce May Be Imminent']\n"
          ]
        }
      ]
    }
  ]
}